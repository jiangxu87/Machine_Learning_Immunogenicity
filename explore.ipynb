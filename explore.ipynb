{
 "cells": [
  {
   "cell_type": "code",
   "execution_count": 1,
   "metadata": {
    "collapsed": false
   },
   "outputs": [
    {
     "ename": "ImportError",
     "evalue": "No module named bitarray",
     "output_type": "error",
     "traceback": [
      "\u001b[0;31m---------------------------------------------------------------------------\u001b[0m",
      "\u001b[0;31mImportError\u001b[0m                               Traceback (most recent call last)",
      "\u001b[0;32m<ipython-input-1-efb998bf19e9>\u001b[0m in \u001b[0;36m<module>\u001b[0;34m()\u001b[0m\n\u001b[1;32m      4\u001b[0m \u001b[0;32mimport\u001b[0m \u001b[0msys\u001b[0m\u001b[0;34m\u001b[0m\u001b[0m\n\u001b[1;32m      5\u001b[0m \u001b[0msys\u001b[0m\u001b[0;34m.\u001b[0m\u001b[0mpath\u001b[0m\u001b[0;34m.\u001b[0m\u001b[0minsert\u001b[0m\u001b[0;34m(\u001b[0m\u001b[0;36m0\u001b[0m\u001b[0;34m,\u001b[0m \u001b[0;34m'/home/ubuntu/roger/Machine_Learning_Immunogenicity/src'\u001b[0m\u001b[0;34m)\u001b[0m\u001b[0;34m\u001b[0m\u001b[0m\n\u001b[0;32m----> 6\u001b[0;31m \u001b[0;32mimport\u001b[0m \u001b[0monehot\u001b[0m\u001b[0;34m\u001b[0m\u001b[0m\n\u001b[0m",
      "\u001b[0;32m/home/ubuntu/roger/Machine_Learning_Immunogenicity/src/onehot.py\u001b[0m in \u001b[0;36m<module>\u001b[0;34m()\u001b[0m\n\u001b[0;32m----> 1\u001b[0;31m \u001b[0;32mfrom\u001b[0m \u001b[0mbitarray\u001b[0m \u001b[0;32mimport\u001b[0m \u001b[0mbitarray\u001b[0m\u001b[0;34m\u001b[0m\u001b[0m\n\u001b[0m\u001b[1;32m      2\u001b[0m \u001b[0;34m\u001b[0m\u001b[0m\n\u001b[1;32m      3\u001b[0m AA_ENCODING = dict(\n\u001b[1;32m      4\u001b[0m     \u001b[0mA\u001b[0m\u001b[0;34m=\u001b[0m\u001b[0mbitarray\u001b[0m\u001b[0;34m(\u001b[0m\u001b[0;34m'10000000000000000000'\u001b[0m\u001b[0;34m)\u001b[0m\u001b[0;34m,\u001b[0m\u001b[0;34m\u001b[0m\u001b[0m\n\u001b[1;32m      5\u001b[0m     \u001b[0mC\u001b[0m\u001b[0;34m=\u001b[0m\u001b[0mbitarray\u001b[0m\u001b[0;34m(\u001b[0m\u001b[0;34m'01000000000000000000'\u001b[0m\u001b[0;34m)\u001b[0m\u001b[0;34m,\u001b[0m\u001b[0;34m\u001b[0m\u001b[0m\n",
      "\u001b[0;31mImportError\u001b[0m: No module named bitarray"
     ]
    }
   ],
   "source": [
    "import tensorflow as tf\n",
    "import matplotlib.pyplot as plt\n",
    "import pandas as pd\n",
    "import sys\n",
    "sys.path.insert(0, '/home/ubuntu/roger/Machine_Learning_Immunogenicity/src')\n",
    "import onehot\n"
   ]
  },
  {
   "cell_type": "code",
   "execution_count": 6,
   "metadata": {
    "collapsed": true
   },
   "outputs": [],
   "source": [
    "tcell_data=pd.read_csv('data/tcell_TensorFlow.csv')"
   ]
  },
  {
   "cell_type": "code",
   "execution_count": 1,
   "metadata": {
    "collapsed": false
   },
   "outputs": [],
   "source": [
    "import bitarray"
   ]
  },
  {
   "cell_type": "code",
   "execution_count": 18,
   "metadata": {
    "collapsed": true
   },
   "outputs": [],
   "source": [
    "tcell_data['epitope_seq']=tcell_data['Epitope.Description']"
   ]
  },
  {
   "cell_type": "code",
   "execution_count": 21,
   "metadata": {
    "collapsed": false
   },
   "outputs": [
    {
     "data": {
      "text/plain": [
       "<bound method DataFrame.head of          Epitope.Description  \\\n",
       "0                  KLEDLERDL   \n",
       "1            IEQQADNMITEMLQK   \n",
       "2       GLNGPDIYKGVYQFKSVEFD   \n",
       "3       SGEGWPYIACRTSVVGRAWE   \n",
       "4                  DLMGYIPLV   \n",
       "5                QTVTSTPVQGR   \n",
       "6                TTVYPPSSTAK   \n",
       "7               KCIEWEKAQHGA   \n",
       "8                  KLEDLERDL   \n",
       "9                  KLEDLERDL   \n",
       "10                 LITGRLQSL   \n",
       "11                  TRVAFAGL   \n",
       "12                  AIVNYANL   \n",
       "13                  AIVNYANL   \n",
       "14        MSSFLGKWKLSESHNFDA   \n",
       "15         IGNTVTPTVTFTMDGDK   \n",
       "16         TESTFKNISCTFKFGEE   \n",
       "17         YEAQILNYSKAKSSLES   \n",
       "18         AERTVTVRRVGPGGRAV   \n",
       "19         TESHVKISRTIYRGVSP   \n",
       "20         SRTIYRGVSPSTTRLES   \n",
       "21         LDGALKAKQSAESKLEG   \n",
       "22         LDSQLNRLKSLTDDLQR   \n",
       "23         NSELIRRAKAAESLASD   \n",
       "24         RLKSLVNDLTDKNNLLE   \n",
       "25         AENNLQITEHKRLQLAN   \n",
       "26         NNEVLRLADELRQEQGN   \n",
       "27         FERQYKELQTQAEDDRR   \n",
       "28                 AVAKAGKPL   \n",
       "29                 AMLQDIATL   \n",
       "...                      ...   \n",
       "285695             GILGFVFTL   \n",
       "285696           HPVGEADYFEY   \n",
       "285697         LPEPLPQGQLTAY   \n",
       "285698             SLYNTVATL   \n",
       "285699             ILAKFLHWL   \n",
       "285700            ELAGIGILTV   \n",
       "285701            FPPSPLFFFL   \n",
       "285702             NLVPMVATV   \n",
       "285703            FPPSPLFFFL   \n",
       "285704             NLVPMVATV   \n",
       "285705            FPPSPLFFFL   \n",
       "285706             NLVPMVATV   \n",
       "285707             KAVYNFATM   \n",
       "285708             KAVYNLATM   \n",
       "285709             KAVCNFATM   \n",
       "285710             FQPQNGQFI   \n",
       "285711             KAVYNFATM   \n",
       "285712             KAVYNLATM   \n",
       "285713             KAVCNFATM   \n",
       "285714             FQPQNGQFI   \n",
       "285715             KAVYNFATM   \n",
       "285716             KAVYNLATM   \n",
       "285717             KAVCNFATM   \n",
       "285718             FQPQNGQFI   \n",
       "285719            FPPSPLFFFL   \n",
       "285720             NLVPMVATV   \n",
       "285721              TSYKFESV   \n",
       "285722              TSYKFESV   \n",
       "285723              SIINFEKL   \n",
       "285724              SIINFEKL   \n",
       "\n",
       "                                    Epitope.Organism.Name  \\\n",
       "0                            Hepatitis delta virus TW2667   \n",
       "1                                    Lassa mammarenavirus   \n",
       "2       Lymphocytic choriomeningitis virus (strain Arm...   \n",
       "3       Lymphocytic choriomeningitis virus (strain Arm...   \n",
       "4                            Hepatitis C virus subtype 1a   \n",
       "5                                     Human herpesvirus 5   \n",
       "6                                     Human herpesvirus 5   \n",
       "7                                      Artemisia vulgaris   \n",
       "8                            Hepatitis delta virus TW2667   \n",
       "9                            Hepatitis delta virus TW2667   \n",
       "10                                       SARS coronavirus   \n",
       "11      Salmonella enterica subsp. enterica serovar Ty...   \n",
       "12                                         Vaccinia virus   \n",
       "13                                         Vaccinia virus   \n",
       "14                                    Schistosoma mansoni   \n",
       "15                                    Schistosoma mansoni   \n",
       "16                                    Schistosoma mansoni   \n",
       "17                                    Schistosoma mansoni   \n",
       "18                                    Schistosoma mansoni   \n",
       "19                                    Schistosoma mansoni   \n",
       "20                                    Schistosoma mansoni   \n",
       "21                                    Schistosoma mansoni   \n",
       "22                                    Schistosoma mansoni   \n",
       "23                                    Schistosoma mansoni   \n",
       "24                                    Schistosoma mansoni   \n",
       "25                                    Schistosoma mansoni   \n",
       "26                                    Schistosoma mansoni   \n",
       "27                                    Schistosoma mansoni   \n",
       "28                                 Salmonella typhi Ty21a   \n",
       "29                                 Salmonella typhi Ty21a   \n",
       "...                                                   ...   \n",
       "285695                             Influenza A virus H3N2   \n",
       "285696                                Human herpesvirus 4   \n",
       "285697                                Human herpesvirus 4   \n",
       "285698                     Human immunodeficiency virus 1   \n",
       "285699                                       Homo sapiens   \n",
       "285700                                                NaN   \n",
       "285701                                       Homo sapiens   \n",
       "285702                                Human herpesvirus 5   \n",
       "285703                                       Homo sapiens   \n",
       "285704                                Human herpesvirus 5   \n",
       "285705                                       Homo sapiens   \n",
       "285706                                Human herpesvirus 5   \n",
       "285707        Lymphocytic choriomeningitis mammarenavirus   \n",
       "285708                                                NaN   \n",
       "285709                                                NaN   \n",
       "285710        Lymphocytic choriomeningitis mammarenavirus   \n",
       "285711        Lymphocytic choriomeningitis mammarenavirus   \n",
       "285712                                                NaN   \n",
       "285713                                                NaN   \n",
       "285714        Lymphocytic choriomeningitis mammarenavirus   \n",
       "285715        Lymphocytic choriomeningitis mammarenavirus   \n",
       "285716                                                NaN   \n",
       "285717                                                NaN   \n",
       "285718        Lymphocytic choriomeningitis mammarenavirus   \n",
       "285719                                       Homo sapiens   \n",
       "285720                                Human herpesvirus 5   \n",
       "285721                              Vaccinia virus Ankara   \n",
       "285722                              Vaccinia virus Ankara   \n",
       "285723                                      Gallus gallus   \n",
       "285724                                      Gallus gallus   \n",
       "\n",
       "       Assay.Qualitative.Measure           epitope_seq  \n",
       "0                       Positive             KLEDLERDL  \n",
       "1                       Positive       IEQQADNMITEMLQK  \n",
       "2                       Positive  GLNGPDIYKGVYQFKSVEFD  \n",
       "3                       Positive  SGEGWPYIACRTSVVGRAWE  \n",
       "4                       Positive             DLMGYIPLV  \n",
       "5                       Positive           QTVTSTPVQGR  \n",
       "6                       Positive           TTVYPPSSTAK  \n",
       "7                       Positive          KCIEWEKAQHGA  \n",
       "8                       Positive             KLEDLERDL  \n",
       "9                       Positive             KLEDLERDL  \n",
       "10                 Positive-High             LITGRLQSL  \n",
       "11                      Positive              TRVAFAGL  \n",
       "12                      Positive              AIVNYANL  \n",
       "13                  Positive-Low              AIVNYANL  \n",
       "14                      Negative    MSSFLGKWKLSESHNFDA  \n",
       "15                      Negative     IGNTVTPTVTFTMDGDK  \n",
       "16                      Positive     TESTFKNISCTFKFGEE  \n",
       "17                      Positive     YEAQILNYSKAKSSLES  \n",
       "18                      Positive     AERTVTVRRVGPGGRAV  \n",
       "19                      Positive     TESHVKISRTIYRGVSP  \n",
       "20                      Positive     SRTIYRGVSPSTTRLES  \n",
       "21                      Positive     LDGALKAKQSAESKLEG  \n",
       "22                      Positive     LDSQLNRLKSLTDDLQR  \n",
       "23                      Positive     NSELIRRAKAAESLASD  \n",
       "24                      Positive     RLKSLVNDLTDKNNLLE  \n",
       "25                      Positive     AENNLQITEHKRLQLAN  \n",
       "26                      Positive     NNEVLRLADELRQEQGN  \n",
       "27                      Positive     FERQYKELQTQAEDDRR  \n",
       "28                      Positive             AVAKAGKPL  \n",
       "29                      Positive             AMLQDIATL  \n",
       "...                          ...                   ...  \n",
       "285695                  Positive             GILGFVFTL  \n",
       "285696                  Positive           HPVGEADYFEY  \n",
       "285697                  Positive         LPEPLPQGQLTAY  \n",
       "285698                  Positive             SLYNTVATL  \n",
       "285699                  Positive             ILAKFLHWL  \n",
       "285700                  Positive            ELAGIGILTV  \n",
       "285701                  Positive            FPPSPLFFFL  \n",
       "285702                  Positive             NLVPMVATV  \n",
       "285703                  Positive            FPPSPLFFFL  \n",
       "285704                  Positive             NLVPMVATV  \n",
       "285705                  Positive            FPPSPLFFFL  \n",
       "285706                  Positive             NLVPMVATV  \n",
       "285707                  Positive             KAVYNFATM  \n",
       "285708                  Positive             KAVYNLATM  \n",
       "285709              Positive-Low             KAVCNFATM  \n",
       "285710             Positive-High             FQPQNGQFI  \n",
       "285711             Positive-High             KAVYNFATM  \n",
       "285712              Positive-Low             KAVYNLATM  \n",
       "285713              Positive-Low             KAVCNFATM  \n",
       "285714                  Positive             FQPQNGQFI  \n",
       "285715                  Positive             KAVYNFATM  \n",
       "285716                  Positive             KAVYNLATM  \n",
       "285717              Positive-Low             KAVCNFATM  \n",
       "285718                  Positive             FQPQNGQFI  \n",
       "285719                  Positive            FPPSPLFFFL  \n",
       "285720                  Positive             NLVPMVATV  \n",
       "285721                  Positive              TSYKFESV  \n",
       "285722                  Positive              TSYKFESV  \n",
       "285723                  Positive              SIINFEKL  \n",
       "285724                  Positive              SIINFEKL  \n",
       "\n",
       "[285725 rows x 4 columns]>"
      ]
     },
     "execution_count": 21,
     "metadata": {},
     "output_type": "execute_result"
    }
   ],
   "source": [
    "tcell_data.head"
   ]
  },
  {
   "cell_type": "code",
   "execution_count": null,
   "metadata": {
    "collapsed": true
   },
   "outputs": [],
   "source": []
  }
 ],
 "metadata": {
  "kernelspec": {
   "display_name": "Python 2",
   "language": "python",
   "name": "python2"
  },
  "language_info": {
   "codemirror_mode": {
    "name": "ipython",
    "version": 2
   },
   "file_extension": ".py",
   "mimetype": "text/x-python",
   "name": "python",
   "nbconvert_exporter": "python",
   "pygments_lexer": "ipython2",
   "version": "2.7.11"
  }
 },
 "nbformat": 4,
 "nbformat_minor": 0
}
